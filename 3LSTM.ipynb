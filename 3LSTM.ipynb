{
 "cells": [
  {
   "cell_type": "code",
   "execution_count": 1,
   "metadata": {
    "pycharm": {
     "name": "#%%\n"
    }
   },
   "outputs": [],
   "source": [
    "import pandas as pd\n",
    "from tensorflow.keras.layers import LSTM\n",
    "import tensorflow as tf\n",
    "from sklearn.model_selection import train_test_split\n",
    "from tensorflow.keras.models import Sequential\n",
    "from tensorflow.keras.layers import Dense, Dropout\n",
    "import matplotlib.pyplot as plt\n",
    "from time import time"
   ]
  },
  {
   "cell_type": "code",
   "execution_count": 3,
   "metadata": {
    "pycharm": {
     "name": "#%%\n"
    }
   },
   "outputs": [],
   "source": [
    "# GPU Setting\n",
    "gpus = tf.config.experimental.list_physical_devices('GPU')\n",
    "if gpus:\n",
    "    try:\n",
    "        for gpu in gpus:\n",
    "            tf.config.experimental.set_memory_growth(gpu, True)\n",
    "\n",
    "    except RuntimeError as e:\n",
    "        print(e)"
   ]
  },
  {
   "cell_type": "code",
   "execution_count": 4,
   "metadata": {
    "pycharm": {
     "name": "#%%\n"
    }
   },
   "outputs": [],
   "source": [
    "covid_data = pd.read_csv('COVID_dataset.csv')"
   ]
  },
  {
   "cell_type": "code",
   "execution_count": 5,
   "metadata": {
    "pycharm": {
     "name": "#%%\n"
    }
   },
   "outputs": [],
   "source": [
    "# Data_preprocss\n",
    "# Fill the \"Outbreak Related with No\"\n",
    "covid_data['Outbreak_Related'] = covid_data['Outbreak_Related'].fillna('No')\n",
    "\n",
    "# Drop None\n",
    "covid_data = covid_data.dropna()\n",
    "# Drop time\n",
    "covid_data = covid_data.drop(columns='Accurate_Episode_Date')\n",
    "covid_data = covid_data.drop(columns='Case_Reported_Date')\n",
    "covid_data = covid_data.drop(columns='Specimen_Date')\n",
    "covid_data = covid_data.drop(columns='Test_Reported_Date')\n",
    "# Convert Location\n",
    "covid_data[\"Reporting_PHU_Latitude\"] = covid_data[\"Reporting_PHU_Latitude\"]/50\n",
    "covid_data[\"Reporting_PHU_Longitude\"] = covid_data[\"Reporting_PHU_Longitude\"]/90"
   ]
  },
  {
   "cell_type": "code",
   "execution_count": 6,
   "metadata": {
    "pycharm": {
     "name": "#%% Data Transfer to one hot key\n"
    }
   },
   "outputs": [],
   "source": [
    "# Convert Dataframe\n",
    "covid_data_age = pd.get_dummies(covid_data[\"Age_Group\"], prefix=\"Age_Group\")\n",
    "covid_data_gender = pd.get_dummies(covid_data[\"Client_Gender\"], prefix=\"Client_Gender\")\n",
    "covid_data_case = pd.get_dummies(covid_data[\"Case_AcquisitionInfo\"], prefix=\"Case_AcquisitionInfo\")\n",
    "covid_data_city = pd.get_dummies(covid_data[\"Reporting_PHU_City\"], prefix=\"PHU_City\")"
   ]
  },
  {
   "cell_type": "code",
   "execution_count": 7,
   "metadata": {
    "pycharm": {
     "name": "#%% Combine Dataframe\n"
    }
   },
   "outputs": [],
   "source": [
    "covid_data_final = pd.concat([covid_data, covid_data_age, covid_data_gender, covid_data_case, covid_data_city], axis=1)\n",
    "covid_data_final = covid_data_final.drop(['Age_Group', 'Client_Gender', 'Case_AcquisitionInfo', 'Reporting_PHU_City'], axis=1)\n",
    "covid_data_final['Outbreak_Related'] = covid_data_final['Outbreak_Related'].replace({'Yes':1, 'No':0})\n",
    "covid_data_final['Outcome1'] = covid_data_final['Outcome1'].replace({'Resolved':0, 'Not Resolved':1, 'Fatal':2})"
   ]
  },
  {
   "cell_type": "code",
   "execution_count": 8,
   "metadata": {
    "pycharm": {
     "name": "#%% Create Train, Test, Validate Data\n"
    }
   },
   "outputs": [],
   "source": [
    "covid_data_final_train, covid_data_final_test = train_test_split(covid_data_final, test_size=0.2, random_state=42)\n",
    "Y_test = covid_data_final_test['Outcome1']\n",
    "X_test = covid_data_final_test.drop(columns='Outcome1')\n",
    "Y_train = covid_data_final_train['Outcome1']\n",
    "X_train = covid_data_final_train.drop(columns='Outcome1')\n",
    "Y_test = Y_test.to_numpy()\n",
    "X_test = X_test.to_numpy()\n",
    "Y_train = Y_train.to_numpy()\n",
    "X_train = X_train.to_numpy()\n"
   ]
  },
  {
   "cell_type": "code",
   "execution_count": 9,
   "metadata": {
    "pycharm": {
     "name": "#%%\n"
    }
   },
   "outputs": [],
   "source": [
    "X_train = X_train.reshape(X_train.shape[0], 1, X_train.shape[1])\n",
    "X_test = X_test.reshape(X_test.shape[0], 1, X_test.shape[1])\n",
    "Y_train = Y_train.reshape(Y_train.shape[0], 1)\n",
    "Y_test = Y_test.reshape(Y_test.shape[0], 1)"
   ]
  },
  {
   "cell_type": "code",
   "execution_count": 12,
   "metadata": {
    "pycharm": {
     "name": "#%%Build Model\n"
    }
   },
   "outputs": [
    {
     "name": "stdout",
     "output_type": "stream",
     "text": [
      "Model: \"sequential_1\"\n",
      "_________________________________________________________________\n",
      "Layer (type)                 Output Shape              Param #   \n",
      "=================================================================\n",
      "lstm_1 (LSTM)                (None, 64)                30976     \n",
      "_________________________________________________________________\n",
      "dense_1 (Dense)              (None, 1)                 65        \n",
      "=================================================================\n",
      "Total params: 31,041\n",
      "Trainable params: 31,041\n",
      "Non-trainable params: 0\n",
      "_________________________________________________________________\n"
     ]
    }
   ],
   "source": [
    "model = Sequential()\n",
    "model.add(LSTM(64,  activation='tanh', input_shape = (1, 56)) )\n",
    "model.add(Dense(1))\n",
    "model.compile(loss='mse', optimizer='adam', metrics=['accuracy'])\n",
    "model.summary()\n"
   ]
  },
  {
   "cell_type": "code",
   "execution_count": 13,
   "metadata": {
    "pycharm": {
     "name": "#%%\n"
    }
   },
   "outputs": [
    {
     "name": "stdout",
     "output_type": "stream",
     "text": [
      "Epoch 1/30\n",
      "74/74 [==============================] - 2s 7ms/step - loss: 1.1040 - accuracy: 0.3387 - val_loss: 0.4506 - val_accuracy: 0.3396\n",
      "Epoch 2/30\n",
      "74/74 [==============================] - 0s 3ms/step - loss: 0.4075 - accuracy: 0.3544 - val_loss: 0.3830 - val_accuracy: 0.3635\n",
      "Epoch 3/30\n",
      "74/74 [==============================] - 0s 3ms/step - loss: 0.3622 - accuracy: 0.3712 - val_loss: 0.3638 - val_accuracy: 0.3741\n",
      "Epoch 4/30\n",
      "74/74 [==============================] - 0s 3ms/step - loss: 0.3422 - accuracy: 0.3797 - val_loss: 0.3570 - val_accuracy: 0.3801\n",
      "Epoch 5/30\n",
      "74/74 [==============================] - 0s 3ms/step - loss: 0.3432 - accuracy: 0.3733 - val_loss: 0.3551 - val_accuracy: 0.3823\n",
      "Epoch 6/30\n",
      "74/74 [==============================] - 0s 3ms/step - loss: 0.3335 - accuracy: 0.3821 - val_loss: 0.3540 - val_accuracy: 0.3805\n",
      "Epoch 7/30\n",
      "74/74 [==============================] - 0s 3ms/step - loss: 0.3420 - accuracy: 0.3848 - val_loss: 0.3538 - val_accuracy: 0.3771\n",
      "Epoch 8/30\n",
      "74/74 [==============================] - 0s 3ms/step - loss: 0.3353 - accuracy: 0.3855 - val_loss: 0.3519 - val_accuracy: 0.3788\n",
      "Epoch 9/30\n",
      "74/74 [==============================] - 0s 3ms/step - loss: 0.3437 - accuracy: 0.3825 - val_loss: 0.3512 - val_accuracy: 0.3827\n",
      "Epoch 10/30\n",
      "74/74 [==============================] - 0s 3ms/step - loss: 0.3304 - accuracy: 0.3829 - val_loss: 0.3500 - val_accuracy: 0.3793\n",
      "Epoch 11/30\n",
      "74/74 [==============================] - 0s 3ms/step - loss: 0.3375 - accuracy: 0.3945 - val_loss: 0.3508 - val_accuracy: 0.3780\n",
      "Epoch 12/30\n",
      "74/74 [==============================] - 0s 3ms/step - loss: 0.3281 - accuracy: 0.3820 - val_loss: 0.3497 - val_accuracy: 0.3805\n",
      "Epoch 13/30\n",
      "74/74 [==============================] - 0s 3ms/step - loss: 0.3296 - accuracy: 0.3944 - val_loss: 0.3477 - val_accuracy: 0.3810\n",
      "Epoch 14/30\n",
      "74/74 [==============================] - 0s 3ms/step - loss: 0.3343 - accuracy: 0.3893 - val_loss: 0.3486 - val_accuracy: 0.3801\n",
      "Epoch 15/30\n",
      "74/74 [==============================] - 0s 3ms/step - loss: 0.3189 - accuracy: 0.3945 - val_loss: 0.3460 - val_accuracy: 0.3848\n",
      "Epoch 16/30\n",
      "74/74 [==============================] - 0s 3ms/step - loss: 0.3281 - accuracy: 0.3921 - val_loss: 0.3464 - val_accuracy: 0.3857\n",
      "Epoch 17/30\n",
      "74/74 [==============================] - 0s 3ms/step - loss: 0.3265 - accuracy: 0.4020 - val_loss: 0.3459 - val_accuracy: 0.3904\n",
      "Epoch 18/30\n",
      "74/74 [==============================] - 0s 3ms/step - loss: 0.3221 - accuracy: 0.3894 - val_loss: 0.3445 - val_accuracy: 0.3818\n",
      "Epoch 19/30\n",
      "74/74 [==============================] - 0s 3ms/step - loss: 0.3213 - accuracy: 0.4038 - val_loss: 0.3446 - val_accuracy: 0.3805\n",
      "Epoch 20/30\n",
      "74/74 [==============================] - 0s 3ms/step - loss: 0.3188 - accuracy: 0.3962 - val_loss: 0.3463 - val_accuracy: 0.3844\n",
      "Epoch 21/30\n",
      "74/74 [==============================] - 0s 3ms/step - loss: 0.3213 - accuracy: 0.4017 - val_loss: 0.3435 - val_accuracy: 0.3835\n",
      "Epoch 22/30\n",
      "74/74 [==============================] - 0s 3ms/step - loss: 0.3199 - accuracy: 0.3869 - val_loss: 0.3433 - val_accuracy: 0.3951\n",
      "Epoch 23/30\n",
      "74/74 [==============================] - 0s 3ms/step - loss: 0.3243 - accuracy: 0.3944 - val_loss: 0.3423 - val_accuracy: 0.3904\n",
      "Epoch 24/30\n",
      "74/74 [==============================] - 0s 3ms/step - loss: 0.3113 - accuracy: 0.4103 - val_loss: 0.3422 - val_accuracy: 0.3865\n",
      "Epoch 25/30\n",
      "74/74 [==============================] - 0s 3ms/step - loss: 0.3246 - accuracy: 0.4072 - val_loss: 0.3443 - val_accuracy: 0.3955\n",
      "Epoch 26/30\n",
      "74/74 [==============================] - 0s 3ms/step - loss: 0.3162 - accuracy: 0.4068 - val_loss: 0.3416 - val_accuracy: 0.3899\n",
      "Epoch 27/30\n",
      "74/74 [==============================] - 0s 3ms/step - loss: 0.3181 - accuracy: 0.3994 - val_loss: 0.3420 - val_accuracy: 0.3908\n",
      "Epoch 28/30\n",
      "74/74 [==============================] - 0s 3ms/step - loss: 0.3194 - accuracy: 0.3959 - val_loss: 0.3417 - val_accuracy: 0.3874\n",
      "Epoch 29/30\n",
      "74/74 [==============================] - 0s 3ms/step - loss: 0.3231 - accuracy: 0.3958 - val_loss: 0.3421 - val_accuracy: 0.3921\n",
      "Epoch 30/30\n",
      "74/74 [==============================] - 0s 3ms/step - loss: 0.3110 - accuracy: 0.3968 - val_loss: 0.3449 - val_accuracy: 0.3946\n",
      "Traning Time:8.217022180557251\n",
      "\n",
      "# Evaluate on test data\n",
      "23/23 [==============================] - 0s 1ms/step - loss: 0.3411 - accuracy: 0.3962\n",
      "test loss, test acc: [0.3410815894603729, 0.3962457478046417]\n",
      "Evaluation Time:0.06183576583862305\n"
     ]
    }
   ],
   "source": [
    "x=time()\n",
    "history = model.fit(X_train,Y_train,validation_split = 0.2, batch_size=128,epochs = 30)\n",
    "y=time()\n",
    "traning_time=y-x\n",
    "print(f\"Traning Time:{traning_time}\")\n",
    "print('\\n# Evaluate on test data')\n",
    "results = model.evaluate(X_test, Y_test, batch_size=128)\n",
    "print('test loss, test acc:', results)\n",
    "z=time()\n",
    "evaluation_time=z-y\n",
    "print(f\"Evaluation Time:{evaluation_time}\")"
   ]
  },
  {
   "cell_type": "code",
   "execution_count": 35,
   "metadata": {
    "pycharm": {
     "name": "#%% Plot Plots\n"
    }
   },
   "outputs": [
    {
     "name": "stdout",
     "output_type": "stream",
     "text": [
      "dict_keys(['loss', 'accuracy', 'val_loss', 'val_accuracy'])\n"
     ]
    },
    {
     "data": {
      "image/png": "[encoded data removed]",
      "text/plain": [
       "<Figure size 432x288 with 1 Axes>"
      ]
     },
     "metadata": {
      "needs_background": "light"
     },
     "output_type": "display_data"
    },
    {
     "data": {
      "image/png": "[encoded data removed]",
      "text/plain": [
       "<Figure size 432x288 with 1 Axes>"
      ]
     },
     "metadata": {
      "needs_background": "light"
     },
     "output_type": "display_data"
    },
    {
     "data": {
      "text/plain": [
       "<Figure size 432x288 with 0 Axes>"
      ]
     },
     "metadata": {},
     "output_type": "display_data"
    }
   ],
   "source": [
    "print(history.history.keys())\n",
    "acc = history.history['accuracy']\n",
    "loss = history.history['loss']\n",
    "validation_acc = history.history['val_accuracy']\n",
    "validation_loss = history.history['val_loss']\n",
    "epochs = range(1, len(acc) + 1)\n",
    "\n",
    "# Plot\n",
    "plt.plot(epochs, validation_loss, label='validation loss')\n",
    "plt.plot(epochs, loss, label='Training loss')\n",
    "plt.title('Training and validation Loss')\n",
    "plt.legend()\n",
    "plt.figure()\n",
    "\n",
    "plt.plot(epochs, validation_acc, label='validation acc')\n",
    "plt.plot(epochs, acc, label='Training acc')\n",
    "plt.title('Training and validation accuracy')\n",
    "plt.legend()\n",
    "plt.figure()\n",
    "plt.show()\n",
    "\n"
   ]
  }
 ],
 "metadata": {
  "kernelspec": {
   "display_name": "Python 3",
   "language": "python",
   "name": "python3"
  },
  "language_info": {
   "codemirror_mode": {
    "name": "ipython",
    "version": 3
   },
   "file_extension": ".py",
   "mimetype": "text/x-python",
   "name": "python",
   "nbconvert_exporter": "python",
   "pygments_lexer": "ipython3",
   "version": "3.7.7"
  }
 },
 "nbformat": 4,
 "nbformat_minor": 1
}
